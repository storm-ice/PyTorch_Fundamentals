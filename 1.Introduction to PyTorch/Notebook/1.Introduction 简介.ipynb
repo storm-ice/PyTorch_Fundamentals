{
 "cells": [
  {
   "cell_type": "markdown",
   "id": "c9fa9614-6976-458a-81e9-939aaf7e7d7d",
   "metadata": {},
   "source": [
    "# Introduction 简介"
   ]
  },
  {
   "cell_type": "markdown",
   "id": "0e258f7c-f9f3-4323-9732-9ecb4d975bac",
   "metadata": {},
   "source": [
    "大多数机器学习工作流涉及处理数据、创建模型、使用超参数优化模型，以及保存，然后推理已训练的模型。 本模块介绍在 PyTorch（一种常用的 Python ML 框架）中实现的完整机器学习 (ML) 工作流。\r\n",
    "\r\n",
    "我们使用 FashionMNIST 数据集来训练一个神经网络模型，该模型可识别 T 恤/上衣、裤子、套头衫、连衣裙、外套、凉鞋、衬衫、运动鞋、包或短靴等图像。\r\n",
    "\r\n",
    "在开始构建模型之前，我们将介绍理解生成神经网络模型的关键概念。"
   ]
  },
  {
   "cell_type": "markdown",
   "id": "b4c32872-e6c7-4875-a344-5e772b8a5d23",
   "metadata": {},
   "source": [
    "# 学习目标"
   ]
  },
  {
   "cell_type": "markdown",
   "id": "b572cd90-2aee-4fd4-aae5-b0aed31c4c66",
   "metadata": {},
   "source": [
    "在本模块中，你将：\r\n",
    "\r\n",
    "- 了解如何将 Tensors 与 CPU 和 GPU 配合使用\r\n",
    "- 了解如何管理、缩放和规范化数据集\r\n",
    "- 使用神经网络生成图像识别模型\r\n",
    "- 了解如何优化模型\r\n",
    "- 了解如何提升模型推理性能"
   ]
  },
  {
   "cell_type": "markdown",
   "id": "a5344f0d-71a9-4409-8a7a-d7b8a8a2b3a8",
   "metadata": {},
   "source": [
    "# 先决条件"
   ]
  },
  {
   "cell_type": "markdown",
   "id": "03062e66-46c7-4f33-b6c3-b21985247789",
   "metadata": {},
   "source": [
    "- Python 基础知识\r\n",
    "- 对如何使用 Jupyter Notebook 有基本的了解"
   ]
  },
  {
   "cell_type": "code",
   "execution_count": null,
   "id": "64e6c4a5-b060-4da5-aef0-68a88c80cb24",
   "metadata": {},
   "outputs": [],
   "source": []
  }
 ],
 "metadata": {
  "kernelspec": {
   "display_name": "Python 3 (ipykernel)",
   "language": "python",
   "name": "python3"
  },
  "language_info": {
   "codemirror_mode": {
    "name": "ipython",
    "version": 3
   },
   "file_extension": ".py",
   "mimetype": "text/x-python",
   "name": "python",
   "nbconvert_exporter": "python",
   "pygments_lexer": "ipython3",
   "version": "3.8.0"
  }
 },
 "nbformat": 4,
 "nbformat_minor": 5
}
