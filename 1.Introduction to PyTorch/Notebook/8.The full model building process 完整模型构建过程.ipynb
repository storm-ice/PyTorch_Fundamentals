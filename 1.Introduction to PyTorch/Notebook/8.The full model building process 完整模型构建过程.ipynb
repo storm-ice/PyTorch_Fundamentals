{
 "cells": [
  {
   "cell_type": "markdown",
   "id": "966bafd7-d7ca-484a-8d27-b18930954091",
   "metadata": {},
   "source": [
    "# The full model building process 完整模型构建过程"
   ]
  },
  {
   "cell_type": "code",
   "execution_count": null,
   "id": "cab380aa-5a3b-4ca6-a1f8-e4b98dbe255b",
   "metadata": {},
   "outputs": [],
   "source": []
  }
 ],
 "metadata": {
  "kernelspec": {
   "display_name": "Python 3 (ipykernel)",
   "language": "python",
   "name": "python3"
  },
  "language_info": {
   "codemirror_mode": {
    "name": "ipython",
    "version": 3
   },
   "file_extension": ".py",
   "mimetype": "text/x-python",
   "name": "python",
   "nbconvert_exporter": "python",
   "pygments_lexer": "ipython3",
   "version": "3.8.0"
  }
 },
 "nbformat": 4,
 "nbformat_minor": 5
}
