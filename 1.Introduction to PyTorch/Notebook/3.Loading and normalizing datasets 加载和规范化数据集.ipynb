{
 "cells": [
  {
   "cell_type": "markdown",
   "id": "d1149ff6-0ae6-4c8c-8b62-67459c6a1d0e",
   "metadata": {},
   "source": [
    "# Loading and normalizing datasets 加载和规范化数据集"
   ]
  },
  {
   "cell_type": "markdown",
   "id": "ff2e6941-c3ca-45ee-9704-61dd7f790ac1",
   "metadata": {},
   "source": [
    "# Datasets & DataLoaders 数据集和数据加载器"
   ]
  },
  {
   "cell_type": "markdown",
   "id": "709e6ea8-0fc8-44a3-b301-4827c18609b3",
   "metadata": {},
   "source": [
    "用于处理数据样本的代码可能会变得混乱且难以维护；理想情况下，我们希望数据集代码与模型训练代码分离，以获得更好的可读性和模块化性。PyTorch 提供了两个数据原语：`torch.utils.data.DataLoader`和`torch.utils.data.Dataset` ，允许您使用预加载的数据集以及您自己的数据。 `Dataset`存储样本及其相应的标签，并`DataLoader`围绕 `Dataset`进行迭代，以方便访问样本。"
   ]
  },
  {
   "cell_type": "markdown",
   "id": "4ab43fd6-29f3-4b00-a3b4-93a6f9e27d01",
   "metadata": {},
   "source": [
    "PyTorch 域库提供了许多预加载的数据集（例如 FashionMNIST）。这些数据集是`torch.utils.data.Dataset`的子类。并且，对于特定数据，实现特定的函数。它们可用于对您的模型进行原型设计和基准测试。您可以在这里找到它们：[图像数据集](https://pytorch.org/vision/stable/datasets.html)、 [文本数据集](https://pytorch.org/text/stable/datasets.html)和 [音频数据集](https://pytorch.org/audio/stable/datasets.html)"
   ]
  },
  {
   "cell_type": "markdown",
   "id": "1f12ec8c-24fb-4f8e-9c67-4f8d91e0718c",
   "metadata": {},
   "source": [
    "# Loading a Dataset 加载数据集\r\n",
    "\r\n",
    "以下是如何从 TorchVision 加载[Fashion-MNIST](https://research.zalando.com/project/fashion_mnist/fashion_mnist/)数据集的示例。Fashion-MNIST 是 Zaland论文文章的图像数据集。这个数据集由 60,000 个训练样本和 10,000 个测试样本组成。每个样本包含一个 28×28 灰度图像和来自 10 个类别之一的关联标\n",
    "\n",
    "- 每张图像的高度为 28 像素，宽度为 28 像素，总共 784 像素。 \r\n",
    "- 这 10 个类别表示图像的类型，例如：T 恤/上衣、裤子、套头衫、连衣裙、包、踝靴等. \r\n",
    "- 灰度像素的值介于 0 到 255 之间，用于测量黑白图像的强度。强度值从白色增加到黑色。例如：白色为 0，黑色为 255。我们使用以下参数，来加载[FashionMNIST Dataset](https://pytorch.org/vision/stable/datasets.html#fashion-mnini\r\n",
    "\r\n",
    "  - `root` 是存储训练/测试数据的路径，\r\n",
    "\r\n",
    "- `train` 指定训练或测试数据集，\r\n",
    "\r\n",
    "- `download=True` 如果`root` 上没有数据，则从 Internet 下载数据。\r\n",
    "\r\n",
    "- `transform`并`target_transform`指定特征和标签转换。"
   ]
  },
  {
   "cell_type": "code",
   "execution_count": 1,
   "id": "3531b6bf-3614-47a0-8d55-15ce01a1fadd",
   "metadata": {},
   "outputs": [],
   "source": [
    "%matplotlib inline\n",
    "import torch\n",
    "from torch.utils.data import Dataset\n",
    "from torchvision import datasets\n",
    "from torchvision.transforms import ToTensor, Lambda\n",
    "import matplotlib.pyplot as plt\n",
    "\n",
    "training_data = datasets.FashionMNIST(\n",
    "    root = \"data\",\n",
    "    train = True,\n",
    "    download = True,\n",
    "    transform = ToTensor()\n",
    ")\n",
    "\n",
    "test_data = datasets.FashionMNIST(\n",
    "    root = \"data\",\n",
    "    train = False,\n",
    "    download = True,\n",
    "    transform = ToTensor()\n",
    ")"
   ]
  },
  {
   "cell_type": "markdown",
   "id": "3e8f58c4-c858-4bef-a2ca-2f6fd99b36ee",
   "metadata": {},
   "source": [
    "# Iterating and Visualizing the Dataset 迭代和可视化数据集"
   ]
  },
  {
   "cell_type": "markdown",
   "id": "b80631c2-ccdd-4833-9cdf-4b2d220f471f",
   "metadata": {},
   "source": [
    "我们可以像列表一样手动索引`Datasets`：`training_data[index]`。我们用`matplotlib`来可视化训练数据中的一些样本。"
   ]
  },
  {
   "cell_type": "code",
   "execution_count": 2,
   "id": "31018664-9be9-4064-951a-c5b38cf8493b",
   "metadata": {},
   "outputs": [
    {
     "data": {
      "image/png": "[encoded data removed]",
      "text/plain": [
       "<Figure size 800x800 with 9 Axes>"
      ]
     },
     "metadata": {},
     "output_type": "display_data"
    }
   ],
   "source": [
    "labels_map = {\n",
    "    0: \"T-Shirt\",\n",
    "    1: \"Trouser\",\n",
    "    2: \"Pullover\",\n",
    "    3: \"Dress\",\n",
    "    4: \"Coat\",\n",
    "    5: \"Sandal\",\n",
    "    6: \"Shirt\",\n",
    "    7: \"Sneaker\",\n",
    "    8: \"Bag\",\n",
    "    9: \"Ankle Boot\",\n",
    "}\n",
    "\n",
    "figure = plt.figure(figsize = (8, 8))\n",
    "cols, rows = 3, 3\n",
    "for i in range(1, cols * rows + 1):\n",
    "    sample_idx = torch.randint(len(training_data), size = (1, )).item()\n",
    "    img, idx = training_data[sample_idx]\n",
    "    figure.add_subplot(rows, cols, i)\n",
    "    plt.axis(\"off\")\n",
    "    plt.imshow(img.squeeze(), cmap = \"gray\")\n",
    "plt.show()"
   ]
  },
  {
   "cell_type": "markdown",
   "id": "3f2d851d-2d1a-4bb6-8845-29f678b31ea9",
   "metadata": {},
   "source": [
    "# Creating a Custom Dataset for your files 为您的文件创建自定义数据集"
   ]
  },
  {
   "cell_type": "markdown",
   "id": "ca9f3478-c982-4eef-87ad-41f1eef2ce3f",
   "metadata": {},
   "source": [
    "自定义 Dataset 类必须实现三个函数：`__init__`、`__len__`和`__getitem`__。看看这个实现：FashionMNIST 图像存储在目录`img_dir`中，它们的标签单独存储在CSV 文件`annotations_file`中。"
   ]
  },
  {
   "cell_type": "code",
   "execution_count": 3,
   "id": "5947ef6e-91c1-4a37-b75c-d93355e05a9f",
   "metadata": {},
   "outputs": [],
   "source": [
    "import os\n",
    "import pandas as pd\n",
    "from torchvision.io import read_image\n",
    "\n",
    "class CustomImageDataset(Dataset):\n",
    "    def __init__(self, annotations_file, img_dir, transform = None, target_tansform = None):\n",
    "        self.img_labels = pd.read_csv(annotations_file)\n",
    "        self.img_dir = img_dir\n",
    "        self.transform = transform\n",
    "        self.target_transform = target_transform\n",
    "\n",
    "    def __len__(self):\n",
    "        return len(self.img_labels)\n",
    "\n",
    "    def __getitem__(self, idx):\n",
    "        img_path = os.path.join(self.img_dir, self.img_labels.iloc[idx, 0])\n",
    "        image = read_image(img_path)\n",
    "        label = self.img_labels.iloc[idx, 1]\n",
    "        if self.transform:\n",
    "            image = self.transfrom(image)\n",
    "        if self.target_transform:\n",
    "            label = self.target_transform(label)\n",
    "        return image, label\n"
   ]
  },
  {
   "cell_type": "markdown",
   "id": "4b82d13f-4650-41fb-b36d-7f7fd6395f04",
   "metadata": {},
   "source": [
    "## \\__init__"
   ]
  },
  {
   "cell_type": "markdown",
   "id": "7cb624b6-5dc3-49e7-8a19-6befad13aeab",
   "metadata": {},
   "source": [
    "`__init__` 函数在实例化 Dataset 对象时运行一次。我们初始化包含图像、注释文件和两种转换的目录（下一节将更详细地介绍）。"
   ]
  },
  {
   "cell_type": "code",
   "execution_count": 4,
   "id": "6ddf9ac2-b4f3-4c55-8881-217e79e0faa9",
   "metadata": {},
   "outputs": [
    {
     "ename": "SyntaxError",
     "evalue": "invalid syntax (808860634.py, line 3)",
     "output_type": "error",
     "traceback": [
      "\u001b[1;36m  Cell \u001b[1;32mIn[4], line 3\u001b[1;36m\u001b[0m\n\u001b[1;33m    ......\u001b[0m\n\u001b[1;37m       ^\u001b[0m\n\u001b[1;31mSyntaxError\u001b[0m\u001b[1;31m:\u001b[0m invalid syntax\n"
     ]
    }
   ],
   "source": [
    "tshirt1.jpg, 0\n",
    "tshirt2.jpg, 0\n",
    "......\n",
    "ankleboot999.jpg, 9"
   ]
  },
  {
   "cell_type": "code",
   "execution_count": 5,
   "id": "c7cb9a49-d667-4b03-9dfd-71fde6ea4ee4",
   "metadata": {},
   "outputs": [],
   "source": [
    "def __init__(self, annotations_file, img_dir, transform=None, target_transform=None):\n",
    "    self.img_labels = pd.read_csv(annotations_file)\n",
    "    self.img_dir = img_dir\n",
    "    self.transform = transform\n",
    "    self.target_transform = target_transform"
   ]
  },
  {
   "cell_type": "markdown",
   "id": "b81e3902-93c3-461c-9551-146ef31a1e22",
   "metadata": {},
   "source": [
    "## \\__len__"
   ]
  },
  {
   "cell_type": "markdown",
   "id": "9be413ec-6e86-4727-96bd-fcd9644e40d2",
   "metadata": {},
   "source": [
    "`__len__` 函数返回数据集中的样本数。"
   ]
  },
  {
   "cell_type": "markdown",
   "id": "c435a5cb-dc91-4102-93f2-861502da78b5",
   "metadata": {},
   "source": [
    "例子："
   ]
  },
  {
   "cell_type": "code",
   "execution_count": 6,
   "id": "26fd8d43-b7e4-452a-9fc5-d3c8cdd90d95",
   "metadata": {},
   "outputs": [],
   "source": [
    "def __len__(self):\r\n",
    "    return len(self.img_labels)"
   ]
  },
  {
   "cell_type": "markdown",
   "id": "3958962c-e4d1-4c75-a233-88cd1b47e64b",
   "metadata": {},
   "source": [
    "## \\__getitem__"
   ]
  },
  {
   "cell_type": "markdown",
   "id": "608ad4e4-4f6e-42a4-8268-73541425ec64",
   "metadata": {},
   "source": [
    "`__getitem__` 函数从数据集加载并返回给定索引`idx`的的样本。基于索引，它识别图像在磁盘上的位置，使用`read_image` 将其转换为张量，从 `self.img_labels`中的 csv 数据中检索相应的标签，调用它们的转换函数（如果适用），并以元组方式返回张量图像和相应的标签。"
   ]
  },
  {
   "cell_type": "code",
   "execution_count": 7,
   "id": "d8dd44ce-a50f-49dd-b9e9-a78df7ca36af",
   "metadata": {},
   "outputs": [],
   "source": [
    "def __getitem__(self, idx):\n",
    "    img_path = os.path.join(self.img_dir, self.img_labels.iloc[idx, 0])\n",
    "    image = read_image(img_path)\n",
    "    label = self.img_labels.iloc[idx, 1]\n",
    "    if self.transform:\n",
    "        image = self.transform(image)\n",
    "    if self.target_transform:\n",
    "        label = self.target_transform(label)\n",
    "    return image, label"
   ]
  },
  {
   "cell_type": "markdown",
   "id": "f1538ba2-0073-4720-a188-bdc22686232d",
   "metadata": {},
   "source": [
    "# Preparing your data for training with DataLoaders 使用 DataLoaders 准备数据以进行训练"
   ]
  },
  {
   "cell_type": "markdown",
   "id": "5db75098-1c9d-4e8e-9b54-8d32c26f44e6",
   "metadata": {},
   "source": [
    "`Dataset`检索我们的数据集的特征并一次标记一个样本。在训练模型时，我们通常希望以 “minibatches”方式传递样本，在每个epcoch重新整理数据以减少模型过度拟合，并使用 Python的`multiprocessing`来加速数据检索。\n",
    "\n",
    "在机器学习中，您需要指定数据集中的特征和标签。输入特征，输出标签。我们训练特征，然后训练模型来预测标签。\r\n",
    "\r\n",
    "- 特征是图像像素中的图案\r\n",
    "- 标签是我们的 10 类类型：T 恤、凉鞋、连衣裙等\r\n",
    "\r\n",
    "`DataLoader`是一个可迭代对象，它通过一个简单的 API 为我们抽象了这要使用 Dataloader，我们需要设置以下参数： \r\n",
    "\r\n",
    "- **data** 将用于训练模型的训练数据，以及评估模型的测试数据 \r\n",
    "- **batch size** 每批中要处理的记录数 \r\n",
    "- **shuffle** 按索引随机抽取数据样本种复杂性。"
   ]
  },
  {
   "cell_type": "code",
   "execution_count": 8,
   "id": "90faec67-a536-4930-b36e-ac9510c17fe8",
   "metadata": {},
   "outputs": [],
   "source": [
    "from torch.utils.data import DataLoader\n",
    "train_dataloader = DataLoader(training_data, batch_size = 64, shuffle = True)\n",
    "test_dataloader = DataLoader(test_data, batch_size = 64, shuffle = True)"
   ]
  },
  {
   "cell_type": "markdown",
   "id": "8fc99e4a-4a9c-479f-8f63-5268abd90a9a",
   "metadata": {},
   "source": [
    "# Iterate through the DataLoader 遍历 DataLoader"
   ]
  },
  {
   "cell_type": "markdown",
   "id": "dee265d2-6d68-453a-93e4-4d686ac7b3d7",
   "metadata": {},
   "source": [
    "我们已将该数据集加载到 `DataLoader` 中，并且可以根据需要迭代数据集。下面的每次迭代都会返回一批`train_features`和`train_labels`（`batch_size=64`分别包含特征和标签）。因为我们指定了`shuffle=True`，所以在迭代所有批次后，数据将被打乱（为了更细粒度地控制数据加载顺序，请查看[Samplers](https://pytorch.org/docs/stable/data.html#data-loading-order-and-sampler)）。"
   ]
  },
  {
   "cell_type": "code",
   "execution_count": 13,
   "id": "80a0dd16-65dc-478a-a7c4-c45271e6b06f",
   "metadata": {},
   "outputs": [
    {
     "name": "stdout",
     "output_type": "stream",
     "text": [
      "Feature batch shape: torch.Size([64, 1, 28, 28])\n",
      "Label batch shape: torch.Size([64])\n"
     ]
    },
    {
     "data": {
      "image/png": "[encoded data removed]",
      "text/plain": [
       "<Figure size 640x480 with 1 Axes>"
      ]
     },
     "metadata": {},
     "output_type": "display_data"
    },
    {
     "name": "stdout",
     "output_type": "stream",
     "text": [
      "Label: Dress\n"
     ]
    }
   ],
   "source": [
    "# Display image and label.\n",
    "train_features, train_labels = next(iter(train_dataloader))\n",
    "print(f\"Feature batch shape: {train_features.size()}\")\n",
    "print(f\"Label batch shape: {train_labels.size()}\")\n",
    "img = train_features[0].squeeze()\n",
    "label = train_labels[0]\n",
    "plt.imshow(img, cmap = \"gray\")\n",
    "plt.show()\n",
    "label_name = list(labels_map.values())[label]\n",
    "print(f\"Label: {label_name}\")"
   ]
  },
  {
   "cell_type": "markdown",
   "id": "6e670e39-b0b4-47b9-90cd-83b719667672",
   "metadata": {},
   "source": [
    "# Normalization 正则化"
   ]
  },
  {
   "cell_type": "markdown",
   "id": "f7d9e79d-1f1c-444f-9af7-2cb2284d074c",
   "metadata": {},
   "source": [
    "正则化是一种常见的数据预处理技术，用于缩放或转换数据，以确保每个特征的学习贡献相等。例如，灰度图像中的每个像素的值在0到255之间，这是特征。如果一个像素值为17，另一个像素为197。就会出现像素重要性分布不均匀的情况，因为较高的像素量会使学习发生偏差。正则化会改变数据的范围，而不会扭曲其特征之间的区别。进行这种预处理是为了避免： \r\n",
    "\r\n",
    "- 预测精度降低 \r\n",
    "- 模型学习困难 \r\n",
    "- 特征数据范围的不利分布"
   ]
  },
  {
   "cell_type": "markdown",
   "id": "4a20d3ad-cbab-457f-b575-4074f7595e6c",
   "metadata": {},
   "source": [
    "## Transforms 转换"
   ]
  },
  {
   "cell_type": "markdown",
   "id": "c3b7e373-58eb-427a-8a7d-61507733bce9",
   "metadata": {},
   "source": [
    "数据并不总是以训练机器学习算法所需的最终处理形式出现。我们使用**transforms**来操作数据并使其适合训练。\r\n",
    "\r\n",
    "所有 TorchVision 数据集都有两个参数（`transform` 用于修改特征，`target_transform` 用于修改标签），它们接受包含转换逻辑的可调用对象。 `torchvision.transforms` 模块提供了几种开箱即用的常用转换。\r\n",
    "\r\n",
    "FashionMNIST特征采用PIL图像格式，标签为整数。对于训练，我们需要将特征作为归一化张量，将标签作为单热编码张量。为了进行这些转换，我们将使用 `ToTensor` 和 `Lambda`。"
   ]
  },
  {
   "cell_type": "code",
   "execution_count": 15,
   "id": "f1297401-80cd-45e1-bb58-c3ce63951626",
   "metadata": {},
   "outputs": [],
   "source": [
    "from torchvision import datasets\n",
    "from torchvision.transforms import ToTensor, Lambda\n",
    "\n",
    "ds = datasets.FashionMNIST(\n",
    "    root = \"data\",\n",
    "    train = True,\n",
    "    download = True,\n",
    "    transform = ToTensor(),\n",
    "    target_transform = Lambda(lambda y: torch.zeros(10, dtype = torch.float).scatter_(0, torch.tensor(y), value = 1))\n",
    ")"
   ]
  },
  {
   "cell_type": "markdown",
   "id": "3827a329-ca7e-4048-910d-ea21043733ff",
   "metadata": {},
   "source": [
    "## ToTensor()"
   ]
  },
  {
   "cell_type": "markdown",
   "id": "cb09714e-3da7-48ac-ad14-b33261201a40",
   "metadata": {},
   "source": [
    "`ToTensor` 将 PIL 图像或 NumPy `ndarray` 转换为 `FloatTensor` 并将图像的像素强度值缩放到 [0., 1.]范围。"
   ]
  },
  {
   "cell_type": "markdown",
   "id": "f08d5fec-4187-467b-be7f-a7f09a716bbe",
   "metadata": {},
   "source": [
    "## Lambda transforms"
   ]
  },
  {
   "cell_type": "markdown",
   "id": "ac32278e-8d33-47d5-a5c7-d87b8384c1ee",
   "metadata": {},
   "source": [
    "Lambda transforms 应用任何用户定义的 lambda 函数。在这里，我们定义一个函数将整数转换为 one-hot 编码张量。它首先创建一个大小为 10（数据集中的标签数量）的零张量，并调用 scatter，它在标签 y 给定的索引上分配 *value=1*。您还可以使用 *torch.nn.function.one_hot* 作为另一个选项来执行此操作。"
   ]
  },
  {
   "cell_type": "code",
   "execution_count": 16,
   "id": "5071630a-9e9d-4d5b-99e1-3384706a6d39",
   "metadata": {},
   "outputs": [],
   "source": [
    "target_transform = Lambda(lambda y: torch.zeros(10, dtype = torch.float).scatter_(dim = 0, index = torch.tensor(y), value = 1))"
   ]
  },
  {
   "cell_type": "markdown",
   "id": "4a1a1d86-7c7a-4f90-ab01-698788bf974e",
   "metadata": {},
   "source": [
    "# 知识检查"
   ]
  },
  {
   "cell_type": "markdown",
   "id": "2e8df20c-ae67-4788-b6a6-80a80fe270ef",
   "metadata": {},
   "source": [
    "1.PyTorch `DataSet` 和 PyTorch `DataLoader` 之间有什么区别\r\n",
    "\r\n",
    "`DataSet`  按设计用于检索单个数据项，而 `DataLoader`  按设计用于处理批量数据。\r\n",
    "\r\n",
    "2.PyTorch 中的转换旨在：\r\n",
    "\r\n",
    " 对数据执行某些操作，使其适用于训练。"
   ]
  },
  {
   "cell_type": "markdown",
   "id": "1a248bea-0a5e-4b40-8cea-3ef84f445bb1",
   "metadata": {},
   "source": [
    "# Further Reading \n",
    "进一步阅读"
   ]
  },
  {
   "cell_type": "markdown",
   "id": "b5debb2f-52cc-4c7b-b75b-1fddb2fbd9e8",
   "metadata": {},
   "source": [
    "- [torch.utils.data API](https://pytorch.org/docs/stable/data.html)"
   ]
  },
  {
   "cell_type": "markdown",
   "id": "9f84adaf-f174-4e91-a572-b3fc493f703f",
   "metadata": {},
   "source": [
    "# References 参考资料"
   ]
  },
  {
   "cell_type": "markdown",
   "id": "9bf29067-157b-446e-ba8b-c3cf41ffc3d9",
   "metadata": {},
   "source": [
    "使用 PyTorch 进行机器学习的简介 - Training | Microsoft Learn\r\n",
    "\r\n",
    "[使用 PyTorch 进行机器学习的简介 - Training | Microsoft Learn](g)"
   ]
  },
  {
   "cell_type": "markdown",
   "id": "3915671a-8e85-40c1-a4f2-5e016411df16",
   "metadata": {},
   "source": [
    "# Github"
   ]
  },
  {
   "cell_type": "markdown",
   "id": "4dd28719-b37c-4168-bd24-a3d32dc71ca6",
   "metadata": {},
   "source": [
    "storm-ice/PyTorch_Fundamentals\n",
    "\n",
    "[storm-ice/PyTorch_Fundamentals](https://github.com/storm-ice/PyTorch_Fundamentals/tree/main)"
   ]
  },
  {
   "cell_type": "code",
   "execution_count": null,
   "id": "0e6b8b4f-af8e-4fe3-9db7-41e34e94d74c",
   "metadata": {},
   "outputs": [],
   "source": []
  }
 ],
 "metadata": {
  "kernelspec": {
   "display_name": "Python 3 (ipykernel)",
   "language": "python",
   "name": "python3"
  },
  "language_info": {
   "codemirror_mode": {
    "name": "ipython",
    "version": 3
   },
   "file_extension": ".py",
   "mimetype": "text/x-python",
   "name": "python",
   "nbconvert_exporter": "python",
   "pygments_lexer": "ipython3",
   "version": "3.8.0"
  }
 },
 "nbformat": 4,
 "nbformat_minor": 5
}
